{
 "cells": [
  {
   "cell_type": "markdown",
   "metadata": {},
   "source": [
    "### Ejercicios del capitulo 4\n",
    "\n",
    "En estos primeros ejemplos mostrados mas adelante vamos a simular el primer sistema cuantico descrito en la seccion 4.1 del libro \"Quantum Computing for computer scientist\".\n",
    "### SECCIÓN 4.1. Ejercicios:\n",
    "\n",
    "1. El sistema debe calcular la probabilidad de encontrarlo en una posición en particular."
   ]
  },
  {
   "cell_type": "code",
   "execution_count": 2,
   "metadata": {},
   "outputs": [
    {
     "ename": "ModuleNotFoundError",
     "evalue": "No module named 'numpy'",
     "output_type": "error",
     "traceback": [
      "\u001b[1;31m---------------------------------------------------------------------------\u001b[0m",
      "\u001b[1;31mModuleNotFoundError\u001b[0m                       Traceback (most recent call last)",
      "Cell \u001b[1;32mIn[2], line 2\u001b[0m\n\u001b[0;32m      1\u001b[0m \u001b[38;5;66;03m# PUNTO 1,1\u001b[39;00m\n\u001b[1;32m----> 2\u001b[0m \u001b[38;5;28;01mimport\u001b[39;00m \u001b[38;5;21;01mnumpy\u001b[39;00m \u001b[38;5;28;01mas\u001b[39;00m \u001b[38;5;21;01mnp\u001b[39;00m\n\u001b[0;32m      4\u001b[0m \u001b[38;5;66;03m# Calcula la norma de un vector\u001b[39;00m\n\u001b[0;32m      5\u001b[0m \u001b[38;5;28;01mdef\u001b[39;00m \u001b[38;5;21mcalcular_norma\u001b[39m(vector):\n",
      "\u001b[1;31mModuleNotFoundError\u001b[0m: No module named 'numpy'"
     ]
    }
   ],
   "source": [
    "import numpy as np\n",
    "# PUNTO 1,1\n",
    "# Calcula la norma de un vector\n",
    "def calcular_norma(vector):\n",
    "    return np.linalg.norm(vector)\n",
    "\n",
    "# Calcula la probabilidad en una posicion especifica\n",
    "def calcular_probabilidad(estado, indice):\n",
    "    numerador = calcular_norma(estado[indice]) ** 2\n",
    "    denominador = calcular_norma(estado) ** 2\n",
    "    return numerador / denominador\n",
    "\n",
    "def main():\n",
    "    estado = np.array([[4+2j], [-1+3j], [0-1j], [2-2j]])\n",
    "    resultado = calcular_probabilidad(estado, 1)\n",
    "    print(\"La probabilidad de encontrar la partícula en la posicion dada es:\", resultado)\n",
    "main()\n"
   ]
  },
  {
   "cell_type": "markdown",
   "metadata": {},
   "source": [
    "2. El sistema si se le da otro vector Ket debe buscar la probabilidad de transitar del primer vector al segundo"
   ]
  },
  {
   "cell_type": "code",
   "execution_count": 3,
   "metadata": {},
   "outputs": [
    {
     "ename": "ModuleNotFoundError",
     "evalue": "No module named 'numpy'",
     "output_type": "error",
     "traceback": [
      "\u001b[1;31m---------------------------------------------------------------------------\u001b[0m",
      "\u001b[1;31mModuleNotFoundError\u001b[0m                       Traceback (most recent call last)",
      "Cell \u001b[1;32mIn[3], line 1\u001b[0m\n\u001b[1;32m----> 1\u001b[0m \u001b[38;5;28;01mimport\u001b[39;00m \u001b[38;5;21;01mnumpy\u001b[39;00m \u001b[38;5;28;01mas\u001b[39;00m \u001b[38;5;21;01mnp\u001b[39;00m\n\u001b[0;32m      3\u001b[0m \u001b[38;5;66;03m#Punto 1,2\u001b[39;00m\n\u001b[0;32m      5\u001b[0m \u001b[38;5;28;01mdef\u001b[39;00m \u001b[38;5;21mnorma\u001b[39m(a):\n",
      "\u001b[1;31mModuleNotFoundError\u001b[0m: No module named 'numpy'"
     ]
    }
   ],
   "source": [
    "import numpy as np\n",
    "\n",
    "# Calcula la norma de un vector\n",
    "def calcular_norma(vector):\n",
    "    return np.linalg.norm(vector)\n",
    "\n",
    "# Calcula el bra a partir de un ket\n",
    "def calcular_bra(estado):\n",
    "    for componente in estado:\n",
    "        if isinstance(componente, list):\n",
    "            componente[1] *= -1\n",
    "        else:\n",
    "            componente *= -1\n",
    "    return estado\n",
    "\n",
    "# Calcula la probabilidad de transición entre dos estados\n",
    "def calcular_transicion(estado1, estado2):\n",
    "    bra_estado2 = calcular_bra((estado2).T[0])\n",
    "    norma1 = calcular_norma((estado1).T[0])\n",
    "    norma2 = calcular_norma((estado2).T[0])\n",
    "    norma_total = norma1 * norma2\n",
    "    aux = (estado1).T\n",
    "    probabilidad = np.dot(bra_estado2, (estado1).T[0])\n",
    "    resultado = np.abs(probabilidad) ** 2\n",
    "    return resultado\n",
    "\n",
    "def main():\n",
    "    estado1 = np.array([[2-1j], [3+0j]])\n",
    "    estado2 = np.array([[0+2j], [1-1j]])\n",
    "    transicion = calcular_transicion(estado1, estado2)\n",
    "    print(f\"La probabilidad de transitar del vector {estado1} al vector {estado2} es:\", transicion)\n",
    "main()\n"
   ]
  },
  {
   "cell_type": "markdown",
   "metadata": {},
   "source": [
    "### COMPLETE LOS RETOS DE PROGRAMACIÓN DEL CAPÍTULO 4 \n",
    "Ahora daremos paso a completar algunos ejercicios visto en el capitulo 4 del libro antes visto y ver asi mismo nuevos conceptos y dar la solucion a dichos ejercicios.\n",
    "1. Amplitud de transición. El sistema puede recibir dos vectores y calcular la probabilidad de transitar de el uno al otro después de hacer la observación"
   ]
  },
  {
   "cell_type": "code",
   "execution_count": 2,
   "metadata": {},
   "outputs": [
    {
     "name": "stdout",
     "output_type": "stream",
     "text": [
      "La probabilidad de transitar del vector [[0.-1.j]\n",
      " [1.+0.j]] al vector [[1.+0.j]\n",
      " [0.-1.j]] es: 4.0\n"
     ]
    }
   ],
   "source": [
    "import numpy as np\n",
    "\n",
    "#Solucion\n",
    "\n",
    "def transpuesta(ket1):\n",
    "    traspuesta = ket1.T\n",
    "    return traspuesta\n",
    "\n",
    "def norma(a):\n",
    "    norma = np.linalg.norm(a)\n",
    "    return norma\n",
    "\n",
    "def bra(ket):\n",
    "    for num in ket:\n",
    "        if isinstance(num, list):\n",
    "            num[1] *= -1\n",
    "        else:\n",
    "            num *= -1\n",
    "    return ket\n",
    "\n",
    "def transition(ket1, ket2):\n",
    "    braket2 = bra(transpuesta(ket2)[0])\n",
    "    norm1 = norma(transpuesta(ket1)[0])\n",
    "    norm2 = norma(transpuesta(ket2)[0])\n",
    "    norm = norm1 * norm2\n",
    "    aux = transpuesta(ket1)\n",
    "    prob = np.dot(braket2, transpuesta(ket1)[0])\n",
    "    ans = np.abs(prob) ** 2\n",
    "    return ans\n",
    "\n",
    "def main():\n",
    "    ket1 = np.array([[0-1j], [1+0j]])\n",
    "    ket2 = np.array([[1+0j], [0-1j]])\n",
    "    transicion = transition(ket1, ket2)\n",
    "    print(f\"La probabilidad de transitar del vector {ket1} al vector {ket2} es:\", transicion)\n",
    "main()"
   ]
  },
  {
   "cell_type": "markdown",
   "metadata": {},
   "source": [
    "2. Ahora con una matriz que describa un observable y un vector ket, el sistema revisa que la matriz sea hermitiana, y si lo es, calcula la media y la varianza del observable en el estado dado."
   ]
  },
  {
   "cell_type": "code",
   "execution_count": 3,
   "metadata": {},
   "outputs": [
    {
     "name": "stdout",
     "output_type": "stream",
     "text": [
      "Media del observable: [[1]]\n",
      "Varianza del observable: [[0]]\n"
     ]
    }
   ],
   "source": [
    "import numpy as np\n",
    "\n",
    "def es_hermitiana(matriz):\n",
    "    return np.allclose(matriz, matriz.conj().T)\n",
    "\n",
    "def media_varianza_observable(matriz_observable, vector_ket):\n",
    "    if not es_hermitiana(matriz_observable):\n",
    "        print(\"La matriz no es hermitiana.\")\n",
    "        return None, None\n",
    "\n",
    "    media = np.dot(vector_ket.conj().T, np.dot(matriz_observable, vector_ket)).real\n",
    "\n",
    "    varianza = np.dot(vector_ket.conj().T, np.dot(matriz_observable ** 2, vector_ket)).real - media ** 2\n",
    "\n",
    "    return media, varianza\n",
    "\n",
    "def main():\n",
    "    matriz_observable = np.array([[1, 0], [0, -1]])  \n",
    "    vector_ket = np.array([[1], [0]])                \n",
    "\n",
    "    media, varianza = media_varianza_observable(matriz_observable, vector_ket)\n",
    "\n",
    "    if media is not None and varianza is not None:\n",
    "        print(\"Media del observable:\", media)\n",
    "        print(\"Varianza del observable:\", varianza)\n",
    "main()"
   ]
  },
  {
   "cell_type": "markdown",
   "metadata": {},
   "source": [
    "3. El sistema calcula los valores propios del observable y la probabilidad de que el sistema transite a alguno de los vectores propios después de la observación.\n"
   ]
  },
  {
   "cell_type": "code",
   "execution_count": 4,
   "metadata": {},
   "outputs": [
    {
     "name": "stdout",
     "output_type": "stream",
     "text": [
      "Valores propios: [-0.44948974  4.44948974]\n",
      "Vectores propios:\n",
      "[[-0.83912106+0.j         -0.54394472+0.j        ]\n",
      " [ 0.48651894-0.24325947j -0.75053269+0.37526634j]]\n",
      "Probabilidad de transitar al vector propio 1: [0.70412415]\n",
      "Probabilidad de transitar al vector propio 2: [0.29587585]\n"
     ]
    }
   ],
   "source": [
    "import numpy as np\n",
    "\n",
    "def eigenvalues_and_eigenvectors(observable):\n",
    "    eigenvalues, eigenvectors = np.linalg.eigh(observable)\n",
    "    return eigenvalues, eigenvectors\n",
    "def transition_probabilities(observable, ket):\n",
    "    eigenvalues, eigenvectors = eigenvalues_and_eigenvectors(observable)\n",
    "    probabilities = np.abs(np.dot(eigenvectors.conj().T, ket)) ** 2\n",
    "    return eigenvalues, probabilities\n",
    "observable = np.array([[1, 2+1j], [2-1j, 3]])\n",
    "eigenvalues, eigenvectors = eigenvalues_and_eigenvectors(observable)\n",
    "print(\"Valores propios:\", eigenvalues)\n",
    "print(\"Vectores propios:\")\n",
    "print(eigenvectors)\n",
    "ket = np.array([[1], [0]])\n",
    "eigenvalues, probabilities = transition_probabilities(observable, ket)\n",
    "for i, eigenvalue in enumerate(eigenvalues):\n",
    "    print(f\"Probabilidad de transitar al vector propio {i+1}: {probabilities[i]}\")"
   ]
  },
  {
   "cell_type": "markdown",
   "metadata": {},
   "source": [
    "4. Se considera la dinámica del sistema. Ahora con una serie de matrices Un el sistema calcula el estado final a partir de un estado inicia"
   ]
  },
  {
   "cell_type": "code",
   "execution_count": 5,
   "metadata": {},
   "outputs": [
    {
     "name": "stdout",
     "output_type": "stream",
     "text": [
      "Estado final:\n",
      "[[ 0]\n",
      " [-1]]\n"
     ]
    }
   ],
   "source": [
    "import numpy as np\n",
    "\n",
    "def evolve_system(initial_state, evolution_matrices):\n",
    "    final_state = initial_state\n",
    "    for matrix in evolution_matrices:\n",
    "        final_state = np.dot(matrix, final_state)\n",
    "    return final_state\n",
    "initial_state = np.array([[1], [0]])  # Estado inicial\n",
    "evolution_matrices = [\n",
    "    np.array([[0, 1], [1, 0]]),\n",
    "    np.array([[1, 0], [0, -1]])\n",
    "]\n",
    "final_state = evolve_system(initial_state, evolution_matrices)\n",
    "print(\"Estado final:\")\n",
    "print(final_state)"
   ]
  },
  {
   "cell_type": "markdown",
   "metadata": {},
   "source": [
    "4.3.1 Encuentre todos los estados posibles a los que puede pasar el sistema descrito en el ejercicio 4.2.2 después de que se haya realizado una medición."
   ]
  },
  {
   "cell_type": "code",
   "execution_count": 7,
   "metadata": {},
   "outputs": [
    {
     "data": {
      "text/plain": [
       "[array([0, 1])]"
      ]
     },
     "execution_count": 7,
     "metadata": {},
     "output_type": "execute_result"
    }
   ],
   "source": [
    "import numpy as np\n",
    "\n",
    "def calculate(estado):\n",
    "    operador = np.array([[0, 1], [1, 0]]) \n",
    "    return np.dot(operador, estado)\n",
    "def CalculateStates():\n",
    "    e0 = np.array([1, 0])\n",
    "    result = np.random.choice([0, 1], p=[1, 0])  \n",
    "    if result == 0:\n",
    "        return [np.array([0, 1])]  \n",
    "        newState = calculate(e0)\n",
    "        return [newState] \n",
    "CalculateStates()"
   ]
  },
  {
   "cell_type": "markdown",
   "metadata": {},
   "source": [
    "4.3.2 Realice los mismos cálculos que en el último ejemplo, utilizando el Ejercicio 4.3.1. Luego dibuje la distribución de probabilidad de los valores propios como en el ejemplo anterior."
   ]
  },
  {
   "cell_type": "code",
   "execution_count": 9,
   "metadata": {},
   "outputs": [
    {
     "name": "stdout",
     "output_type": "stream",
     "text": [
      "Probabilidad p1: 0.5\n",
      "Probabilidad p2: 0.5\n",
      "Valor medio: 0.0\n"
     ]
    },
    {
     "data": {
      "text/plain": [
       "Text(0, 0.5, 'probabilidad')"
      ]
     },
     "execution_count": 9,
     "metadata": {},
     "output_type": "execute_result"
    },
    {
     "data": {
      "image/png": "[encoded data removed]",
      "text/plain": [
       "<Figure size 640x480 with 1 Axes>"
      ]
     },
     "metadata": {},
     "output_type": "display_data"
    }
   ],
   "source": [
    "import numpy as np\n",
    "import matplotlib.pyplot as plt\n",
    "\n",
    "def calcular_probabilidad(eigenvector):\n",
    "    return np.linalg.norm(eigenvector)**2/2\n",
    "def calcular_valor_medio(eigenvalues, probabilities):\n",
    "    return sum(prob * eig_val for prob, eig_val in zip(probabilities, eigenvalues))\n",
    "eigenvector1 = np.array([1, 0])\n",
    "eigenvector2 = np.array([0, 1])\n",
    "lambda1 = 1\n",
    "lambda2 = -1\n",
    "probabilidad1 = calcular_probabilidad(eigenvector1)\n",
    "probabilidad2 = calcular_probabilidad(eigenvector2)\n",
    "valor_medio = calcular_valor_medio([lambda1, lambda2], [probabilidad1, probabilidad2])\n",
    "print(\"Probabilidad p1:\", probabilidad1)\n",
    "print(\"Probabilidad p2:\", probabilidad2)\n",
    "print(\"Valor medio:\", valor_medio)\n",
    "eigenvalues = [lambda1, lambda2]\n",
    "probabilities = [probabilidad1, probabilidad2]\n",
    "plt.bar(eigenvalues, probabilities, color=['red', 'yellow'])\n",
    "plt.xlabel('valores')\n",
    "plt.ylabel('probabilidad')"
   ]
  },
  {
   "cell_type": "markdown",
   "metadata": {},
   "source": [
    "4.4.1 Exercise 4.4.1 Verifique que:\n",
    "$$ \n",
    "    \\begin{bmatrix} 0 && 1 \\\\\n",
    "                   1 && 0 \\\\\n",
    "    \\end{bmatrix}\n",
    "    \\begin{bmatrix}  √2/2 && √2/2 \\\\\n",
    "                   √2/2 && -√2/2 \\\\\n",
    "    \\end{bmatrix}$$\n",
    "son matrices unitarias. Multiplícalos y verifica que su producto también sea unitario."
   ]
  },
  {
   "cell_type": "code",
   "execution_count": 10,
   "metadata": {},
   "outputs": [
    {
     "name": "stdout",
     "output_type": "stream",
     "text": [
      "¿La matriz 1 es unitaria? True\n",
      "¿La matriz 2 es unitaria? True\n",
      "¿El producto entre ellas es unitario? True\n"
     ]
    }
   ],
   "source": [
    "import numpy as np\n",
    "\n",
    "def is_unitary(matrix):\n",
    "    if matrix.shape[0] != matrix.shape[1]:\n",
    "        return False\n",
    "    identity = np.eye(matrix.shape[0])\n",
    "    product = np.dot(matrix, matrix.conj().T)\n",
    "    return np.allclose(product, identity)\n",
    "    \n",
    "matrix1 = np.array([[0, 1], [1, 0]])\n",
    "matrix2 = np.array([[np.sqrt(2)/2, np.sqrt(2)/2], [np.sqrt(2)/2, -np.sqrt(2)/2]])\n",
    "producto = np.dot(matrix1,matrix2)\n",
    "print(\"¿La matriz 1 es unitaria?\", is_unitary(matrix1))\n",
    "print(\"¿La matriz 2 es unitaria?\", is_unitary(matrix2))\n",
    "print(\"¿El producto entre ellas es unitario?\", is_unitary(producto))"
   ]
  },
  {
   "cell_type": "markdown",
   "metadata": {},
   "source": [
    "4.4.2 Determinar el estado del sistema después de tres pasos de tiempo. ¿Cuál es la probabilidad de que la bola cuántica se encuentre en el punto 3?"
   ]
  },
  {
   "cell_type": "code",
   "execution_count": 12,
   "metadata": {},
   "outputs": [
    {
     "name": "stdout",
     "output_type": "stream",
     "text": [
      "Resultado despues de un click:  [[0.        +0.j        ]\n",
      " [0.        +0.70710678j]\n",
      " [0.70710678+0.j        ]\n",
      " [0.        +0.j        ]]\n",
      "Resultado despues de dos click:  [[ 0.5+0.5j]\n",
      " [ 0. +0.j ]\n",
      " [ 0. +0.j ]\n",
      " [-0.5+0.5j]]\n",
      "Resultado despues de tres click  [[ 0.        +0.j        ]\n",
      " [-0.70710678+0.70710678j]\n",
      " [ 0.        +0.j        ]\n",
      " [ 0.        +0.j        ]]\n",
      "La probablidad es [0.+0.j]\n"
     ]
    }
   ],
   "source": [
    "import numpy as np\n",
    "\n",
    "m1 = np.array([[0,1/np.sqrt(2),1/np.sqrt(2),0], \n",
    "               [1j/np.sqrt(2),0,0,1/np.sqrt(2)], \n",
    "               [1/np.sqrt(2),0,0,1j/np.sqrt(2)],\n",
    "               [0,1/np.sqrt(2),-1/np.sqrt(2),0]])\n",
    "\n",
    "v1 = np.array([[1], [0], [0], [0]])\n",
    "click1 = np.dot(m1, v1)\n",
    "click2 = np.dot(m1, click1)\n",
    "click3 = np.dot(m1, click2)\n",
    "\n",
    "print(\"Resultado despues de un click: \", click1)\n",
    "print(\"Resultado despues de dos click: \", click2)\n",
    "print(\"Resultado despues de tres click \", click3)\n",
    "norma = np.linalg.norm(click3)\n",
    "probabilidad = (click3[2]*(np.conj(click3[2])))/(norma**2)\n",
    "print(\"La probablidad es\",probabilidad)"
   ]
  },
  {
   "cell_type": "markdown",
   "metadata": {},
   "source": [
    "4.5.2\n",
    "\n",
    "El vector de estado genérico para un sistema de dos partículas con espín se puede representar como el producto tensorial de los vectores de estado de cada partícula. \n",
    "Si cada partícula puede estar en una superposición de sus estados de espín, el vector de estado genérico para el sistema se puede escribir como:\n",
    "$$ |\\Psi\\rangle = |\\psi_1\\rangle \\otimes |\\psi_2\\rangle $$\n",
    "\n",
    "Si tenemos $n$ partículas, podemos generalizar esto a:\n",
    "\n",
    "$$ |\\Psi\\rangle = |\\psi_1\\rangle \\otimes |\\psi_2\\rangle \\otimes \\ldots \\otimes |\\psi_n\\rangle $$\n",
    "\n",
    "Esto representa el estado de un sistema de \\( n \\) partículas, donde cada partícula puede estar en una superposición de sus estados de espín.\n",
    "Cuando el estado del sistema no puede expresarse como un simple producto tensorial de los estados individuales de sus constituyentes, se produce el entrelazamiento. Esto implica que los estados de cada partícula están conectados de tal manera que la medición de una partícula puede afectar inmediatamente el estado de otra partícula, independientemente de la distancia entre ellas. El entrelazamiento es un componente esencial de la mecánica cuántica y es esencial para una variedad de procesos y usos cuánticos, como la computación cuántica, la comunicación cuántica y la criptografía cuántica."
   ]
  },
  {
   "cell_type": "markdown",
   "metadata": {},
   "source": [
    "4.5.3\n",
    "El estado \n",
    "$$ |\\phi\\rangle = |x_0\\rangle \\otimes |y_1\\rangle + |x_1\\rangle \\otimes |y_1\\rangle $$\n",
    "\n",
    "se puede simplificar de la siguiente manera:\n",
    "\n",
    "$$ |\\phi\\rangle = |x_0\\rangle \\otimes |y_1\\rangle + |x_1\\rangle \\otimes |y_1\\rangle = (|x_0\\rangle + |x_1\\rangle) \\otimes |y_1\\rangle $$\n",
    "\n",
    "Como $$ |x_0\\rangle + |x_1\\rangle $$ es simplemente otro vector de estado en el espacio del primer sistema, este estado puede escribirse como el producto de dos estados individuales, uno para cada subsistema:\n",
    "\n",
    "$$ |\\phi\\rangle = (|x_0\\rangle + |x_1\\rangle) \\otimes |y_1\\rangle = |\\psi\\rangle \\otimes |y_1\\rangle $$\n",
    "Por lo tanto, este estado es separable."
   ]
  }
 ],
 "metadata": {
  "kernelspec": {
   "display_name": "Python 3",
   "language": "python",
   "name": "python3"
  },
  "language_info": {
   "codemirror_mode": {
    "name": "ipython",
    "version": 3
   },
   "file_extension": ".py",
   "mimetype": "text/x-python",
   "name": "python",
   "nbconvert_exporter": "python",
   "pygments_lexer": "ipython3",
   "version": "3.11.6"
  }
 },
 "nbformat": 4,
 "nbformat_minor": 2
}
